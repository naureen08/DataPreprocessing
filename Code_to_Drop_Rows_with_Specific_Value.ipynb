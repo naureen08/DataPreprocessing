{
  "nbformat": 4,
  "nbformat_minor": 0,
  "metadata": {
    "colab": {
      "provenance": []
    },
    "kernelspec": {
      "name": "python3",
      "display_name": "Python 3"
    },
    "language_info": {
      "name": "python"
    }
  },
  "cells": [
    {
      "cell_type": "markdown",
      "source": [
        "##**Drop Multiple Rows in Excel Using Pandas**\n",
        "\n"
      ],
      "metadata": {
        "id": "TKw7vYwytoZN"
      }
    },
    {
      "cell_type": "markdown",
      "source": [
        "**Step 1: Import Dependencies**\n",
        "\n"
      ],
      "metadata": {
        "id": "IJUVjcc5t1uP"
      }
    },
    {
      "cell_type": "code",
      "source": [
        "import pandas as pd\n",
        "import numpy as np"
      ],
      "metadata": {
        "id": "Nnie1fUYt1AM"
      },
      "execution_count": 1,
      "outputs": []
    },
    {
      "cell_type": "markdown",
      "source": [
        "**Step 2: Import Excel File Into DataFrame**"
      ],
      "metadata": {
        "id": "e3yqoqOIvNWL"
      }
    },
    {
      "cell_type": "code",
      "source": [
        "df = pd.read_csv('csvfilepath')"
      ],
      "metadata": {
        "id": "cErZJ3WTvEAH"
      },
      "execution_count": null,
      "outputs": []
    },
    {
      "cell_type": "markdown",
      "source": [
        "**Step 3: Uncomment to Drop Row with Empty Cell**\n"
      ],
      "metadata": {
        "id": "IW7UbvbEvovk"
      }
    },
    {
      "cell_type": "code",
      "source": [
        "#df2 = df.replace(r'\\s+', np.nan, regex=True)\n",
        "#df2.dropna(inplace = True)"
      ],
      "metadata": {
        "id": "-0o57eMIvMjs"
      },
      "execution_count": null,
      "outputs": []
    },
    {
      "cell_type": "markdown",
      "source": [
        "**Step 3: Uncomment to Drop Row with Specific Value**"
      ],
      "metadata": {
        "id": "T3ehEJQOv6rl"
      }
    },
    {
      "cell_type": "code",
      "source": [
        "#df2 = df.replace(-999, np.nan)\n",
        "#df2.dropna(inplace = True)"
      ],
      "metadata": {
        "id": "f5kwqY6pyGH1"
      },
      "execution_count": null,
      "outputs": []
    },
    {
      "cell_type": "markdown",
      "source": [
        "**Step 4: Save cleaned data as a new CSV file**\n",
        "\n"
      ],
      "metadata": {
        "id": "fM6jz72ByNze"
      }
    },
    {
      "cell_type": "code",
      "source": [
        "df2.to_csv('newfilename.csv', index=False)"
      ],
      "metadata": {
        "id": "DgqPyOn3ylBW"
      },
      "execution_count": null,
      "outputs": []
    }
  ]
}